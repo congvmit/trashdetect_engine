{
  "cells": [
    {
      "cell_type": "code",
      "execution_count": null,
      "metadata": {
        "id": "TbG-1gaVM2mA",
        "colab": {
          "base_uri": "https://localhost:8080/"
        },
        "outputId": "54da408b-9b74-40a0-ef07-4cd7b245e08a"
      },
      "outputs": [
        {
          "output_type": "stream",
          "name": "stdout",
          "text": [
            "\u001b[K     |████████████████████████████████| 1.8 MB 8.2 MB/s \n",
            "\u001b[K     |████████████████████████████████| 147 kB 25.8 MB/s \n",
            "\u001b[K     |████████████████████████████████| 181 kB 69.9 MB/s \n",
            "\u001b[K     |████████████████████████████████| 63 kB 2.3 MB/s \n",
            "\u001b[?25h  Building wheel for pathtools (setup.py) ... \u001b[?25l\u001b[?25hdone\n",
            "  Building wheel for efficientnet-pytorch (setup.py) ... \u001b[?25l\u001b[?25hdone\n"
          ]
        }
      ],
      "source": [
        "# Installations\n",
        "!pip install -U trashdetect_engine --quiet\n",
        "!pip install gdown wandb --quiet\n",
        "!pip install efficientnet_pytorch --quiet"
      ]
    },
    {
      "cell_type": "code",
      "execution_count": null,
      "metadata": {
        "colab": {
          "base_uri": "https://localhost:8080/"
        },
        "id": "HhZujvoKUzY-",
        "outputId": "64e76e08-4c3d-46b2-f2cb-2adfa4494426"
      },
      "outputs": [
        {
          "output_type": "stream",
          "name": "stdout",
          "text": [
            "Retrieving folder list\n",
            "Processing file 1D-M55oeRuH_tp3FldzELNIlGmkfjBMLW annotations_binary_test.json\n",
            "Processing file 1sbZADak_vaigZ95l44lNQvQq5YZIhK-C annotations_binary_train.json\n",
            "Retrieving folder list completed\n",
            "Building directory structure\n",
            "Building directory structure completed\n",
            "Downloading...\n",
            "From: https://drive.google.com/uc?id=1D-M55oeRuH_tp3FldzELNIlGmkfjBMLW\n",
            "To: /content/annotations_with_segmask/annotations_binary_test.json\n",
            "100% 541k/541k [00:00<00:00, 108MB/s]\n",
            "Downloading...\n",
            "From: https://drive.google.com/uc?id=1sbZADak_vaigZ95l44lNQvQq5YZIhK-C\n",
            "To: /content/annotations_with_segmask/annotations_binary_train.json\n",
            "100% 2.29M/2.29M [00:00<00:00, 83.7MB/s]\n",
            "Download completed\n",
            "/usr/local/lib/python3.7/dist-packages/gdown/cli.py:131: FutureWarning: Option `--id` was deprecated in version 4.3.1 and will be removed in 5.0. You don't need to pass it anymore to use a file ID.\n",
            "  category=FutureWarning,\n",
            "Downloading...\n",
            "From: https://drive.google.com/uc?id=1W-3pMS0k7DDdSw2HiTCy1hJWgJUkvddw\n",
            "To: /content/taco_dataset.zip\n",
            "100% 2.62G/2.62G [00:10<00:00, 242MB/s]\n"
          ]
        }
      ],
      "source": [
        "# Download dataset and annotations\n",
        "!gdown --folder 1Nsik0VXf8tfqllIsJNgUsipaF6Nm18jU\n",
        "!gdown --id 1W-3pMS0k7DDdSw2HiTCy1hJWgJUkvddw\n",
        "!unzip  -q taco_dataset.zip -d /content/taco_images\n",
        "\n",
        "# https://drive.google.com/file/d/1W-3pMS0k7DDdSw2HiTCy1hJWgJUkvddw/view?usp=sharing"
      ]
    },
    {
      "cell_type": "code",
      "execution_count": null,
      "metadata": {
        "id": "Ni-RDnnJfIuZ"
      },
      "outputs": [],
      "source": [
        ""
      ]
    },
    {
      "cell_type": "code",
      "execution_count": null,
      "metadata": {
        "id": "X-KAYUXoNY1_"
      },
      "outputs": [],
      "source": [
        "import time\n",
        "import os\n",
        "import torch\n",
        "import argparse\n",
        "from datetime import datetime\n",
        "from pathlib import Path\n",
        "\n",
        "import trashdetect_engine\n",
        "# from trashdetect_engine.engine import train_one_epoch, evaluate\n",
        "from trashdetect_engine import utils\n",
        "from trashdetect_engine.data import build\n",
        "from trashdetect_engine.models.segmentation_models import (\n",
        "    get_instance_segmentation_model,\n",
        ")\n"
      ]
    },
    {
      "cell_type": "code",
      "execution_count": null,
      "metadata": {
        "id": "s6EPmhi-fiiC"
      },
      "outputs": [],
      "source": [
        "import math\n",
        "import sys\n",
        "import time\n",
        "import torch\n",
        "\n",
        "import torchvision.models.detection.mask_rcnn\n",
        "from trashdetect_engine.data import get_coco_api_from_dataset\n",
        "from trashdetect_engine.coco_eval import CocoEvaluator\n",
        "from trashdetect_engine import utils\n",
        "\n",
        "\n",
        "def train_one_epoch(\n",
        "    model, optimizer, data_loader, device, epoch, print_freq, exp_logger=None\n",
        "):\n",
        "    model.train()\n",
        "    metric_logger = utils.MetricLogger(delimiter=\"  \")\n",
        "    metric_logger.add_meter(\"lr\", utils.SmoothedValue(window_size=1, fmt=\"{value:.6f}\"))\n",
        "    header = \"Epoch: [{}]\".format(epoch)\n",
        "\n",
        "    lr_scheduler = None\n",
        "    if epoch == 0:\n",
        "        warmup_factor = 1.0 / 1000\n",
        "        warmup_iters = min(1000, len(data_loader) - 1)\n",
        "\n",
        "        lr_scheduler = utils.warmup_lr_scheduler(optimizer, warmup_iters, warmup_factor)\n",
        "\n",
        "    # Training loop\n",
        "    for images, targets in metric_logger.log_every(data_loader, print_freq, header):\n",
        "\n",
        "        images = list(image.to(device) for image in images)\n",
        "        targets = [{k: v.to(device) for k, v in t.items()} for t in targets]\n",
        "\n",
        "        loss_dict = model(images, targets)\n",
        "\n",
        "        # loss_dict: ['loss_classifier', 'loss_box_reg', 'loss_mask', 'loss_objectness', 'loss_rpn_box_reg']\n",
        "        losses = sum(loss for loss in loss_dict.values())\n",
        "\n",
        "        # reduce losses over all GPUs for logging purposes\n",
        "        loss_dict_reduced = utils.reduce_dict(loss_dict)\n",
        "        losses_reduced = sum(loss for loss in loss_dict_reduced.values())\n",
        "\n",
        "        loss_value = losses_reduced.item()\n",
        "        if exp_logger is not None:\n",
        "            exp_logger.log({\"train/loss\": loss_value})\n",
        "\n",
        "        if not math.isfinite(loss_value):\n",
        "            print(\"Loss is {}, stopping training\".format(loss_value))\n",
        "            print(loss_dict_reduced)\n",
        "            sys.exit(1)\n",
        "\n",
        "        optimizer.zero_grad()\n",
        "        losses.backward()\n",
        "        optimizer.step()\n",
        "\n",
        "        if lr_scheduler is not None:\n",
        "            lr_scheduler.step()\n",
        "\n",
        "        metric_logger.update(loss=losses_reduced, **loss_dict_reduced)\n",
        "        metric_logger.update(lr=optimizer.param_groups[0][\"lr\"])\n",
        "\n",
        "\n",
        "def _get_iou_types(model):\n",
        "    model_without_ddp = model\n",
        "    if isinstance(model, torch.nn.parallel.DistributedDataParallel):\n",
        "        model_without_ddp = model.module\n",
        "    iou_types = [\"bbox\"]\n",
        "    if isinstance(model_without_ddp, torchvision.models.detection.MaskRCNN):\n",
        "        iou_types.append(\"segm\")\n",
        "    if isinstance(model_without_ddp, torchvision.models.detection.KeypointRCNN):\n",
        "        iou_types.append(\"keypoints\")\n",
        "    return iou_types\n",
        "\n",
        "\n",
        "@torch.no_grad()\n",
        "def evaluate(model, data_loader, device, exp_logger=None):\n",
        "    n_threads = torch.get_num_threads()\n",
        "    # FIXME remove this and make paste_masks_in_image run on the GPU\n",
        "    torch.set_num_threads(1)\n",
        "    cpu_device = torch.device(\"cpu\")\n",
        "    model.eval()\n",
        "    metric_logger = utils.MetricLogger(delimiter=\"  \")\n",
        "    header = \"Test:\"\n",
        "\n",
        "    coco = get_coco_api_from_dataset(data_loader.dataset)\n",
        "    iou_types = _get_iou_types(model)\n",
        "    coco_evaluator = CocoEvaluator(coco, iou_types)\n",
        "\n",
        "    for image, targets in metric_logger.log_every(data_loader, 100, header):\n",
        "        image = list(img.to(device) for img in image)\n",
        "        targets = [{k: v.to(device) for k, v in t.items()} for t in targets]\n",
        "\n",
        "        torch.cuda.synchronize()\n",
        "        model_time = time.time()\n",
        "        outputs = model(image)\n",
        "        # if exp_logger is not None:\n",
        "        #     exp_logger.log_metric({\"valid/loss\": loss_value})\n",
        "        outputs = [{k: v.to(cpu_device) for k, v in t.items()} for t in outputs]\n",
        "        model_time = time.time() - model_time\n",
        "\n",
        "        res = {\n",
        "            target[\"image_id\"].item(): output\n",
        "            for target, output in zip(targets, outputs)\n",
        "        }\n",
        "        evaluator_time = time.time()\n",
        "        coco_evaluator.update(res)\n",
        "        evaluator_time = time.time() - evaluator_time\n",
        "        metric_logger.update(model_time=model_time, evaluator_time=evaluator_time)\n",
        "\n",
        "    # gather the stats from all processes\n",
        "    metric_logger.synchronize_between_processes()\n",
        "    print(\"Averaged stats:\", metric_logger)\n",
        "    coco_evaluator.synchronize_between_processes()\n",
        "\n",
        "    # accumulate predictions from all images\n",
        "    coco_evaluator.accumulate()\n",
        "    coco_evaluator.summarize()\n",
        "    torch.set_num_threads(n_threads)\n",
        "    return coco_evaluator\n"
      ]
    },
    {
      "cell_type": "code",
      "execution_count": null,
      "metadata": {
        "id": "XUyHtA16Y2Cw"
      },
      "outputs": [],
      "source": [
        "def get_args_parser():\n",
        "    parser = argparse.ArgumentParser(\n",
        "        \"Prepare instance segmentation task with Mask R-CNN\"\n",
        "    )\n",
        "    parser.add_argument(\n",
        "        \"--output_dir\",\n",
        "        help=\"path to save checkpoints\",\n",
        "        default=\"/content/output\",\n",
        "        type=str,\n",
        "    )\n",
        "    parser.add_argument(\n",
        "        \"--images_dir\",\n",
        "        help=\"path to images directory\",\n",
        "        default=\"/content/taco_images/data\",\n",
        "        type=str,\n",
        "    )\n",
        "    parser.add_argument(\n",
        "        \"--anno_name\",\n",
        "        help=\"path to annotation json (part name)\",\n",
        "        default=\"/content/annotations_with_segmask/annotations_binary\",\n",
        "        type=str,\n",
        "    )\n",
        "    parser.add_argument(\"--resume\", default=\"\", help=\"resume from checkpoint\")\n",
        "    parser.add_argument(\n",
        "        \"--test-only\",\n",
        "        dest=\"test_only\",\n",
        "        help=\"Only test the model\",\n",
        "        action=\"store_true\",\n",
        "    )\n",
        "    # Devices\n",
        "    parser.add_argument(\"--batch_size\", default=1, type=int)\n",
        "    parser.add_argument(\"--num_workers\", default=4, type=int)\n",
        "    parser.add_argument(\"--gpu_id\", default=0, type=int)\n",
        "\n",
        "    # Learning\n",
        "    parser.add_argument(\"--num_epochs\", default=26, type=int)\n",
        "    parser.add_argument(\"--lr\", default=0.005, type=float)\n",
        "    parser.add_argument(\"--weight_decay\", default=0.0005, type=float)\n",
        "    parser.add_argument(\n",
        "        \"--lr-step-size\", default=0, type=int, help=\"decrease lr every step-size epochs\"\n",
        "    )\n",
        "    parser.add_argument(\n",
        "        \"--lr-steps\",\n",
        "        default=[16, 22],\n",
        "        nargs=\"+\",\n",
        "        type=int,\n",
        "        help=\"decrease lr every step-size epochs\",\n",
        "    )\n",
        "    parser.add_argument(\n",
        "        \"--lr-gamma\",\n",
        "        default=0.1,\n",
        "        type=float,\n",
        "        help=\"decrease lr by a factor of lr-gamma\",\n",
        "    )\n",
        "    parser.add_argument(\n",
        "        \"--optimizer\",\n",
        "        help=\"Chose type of optimization algorithm, SGD as default\",\n",
        "        default=\"SGD\",\n",
        "        choices=[\"AdamW\", \"SGD\"],\n",
        "        type=str,\n",
        "    )\n",
        "    # Model\n",
        "    parser.add_argument(\"--num_classes\", default=2, type=int)\n",
        "    parser.add_argument(\n",
        "        \"--model\",\n",
        "        default=\"maskrcnn_resnet50_fpn\",\n",
        "        type=str,\n",
        "        choices=[\n",
        "            \"maskrcnn_resnet50_fpn\",\n",
        "            \"fasterrcnn_resnet50_fpn\",\n",
        "            \"fasterrcnn_mobilenet_v3_large_fpn\",\n",
        "            \"fasterrcnn_mobilenet_v3_large_320_fpn\",\n",
        "            \"retinanet_resnet50_fpn\",\n",
        "            \"efficientnet-b0\",\n",
        "            \"efficientnet-b1\",\n",
        "            \"efficientnet-b2\",\n",
        "            \"efficientnet-b3\",\n",
        "            \"efficientnet-b4\",\n",
        "            \"efficientnet-b5\",\n",
        "            \"efficientnet-b6\",\n",
        "        ],\n",
        "    )\n",
        "    ##\n",
        "    parser.add_argument(\"--wandb\", action=\"store_true\")\n",
        "\n",
        "    return parser"
      ]
    },
    {
      "cell_type": "code",
      "execution_count": null,
      "metadata": {
        "id": "oaNcDFliY4vK"
      },
      "outputs": [],
      "source": [
        "parser = get_args_parser()\n",
        "args, _ = parser.parse_known_args()"
      ]
    },
    {
      "cell_type": "code",
      "execution_count": null,
      "metadata": {
        "id": "viT0T4DcY5tc"
      },
      "outputs": [],
      "source": [
        "start_epoch = 0\n",
        "return_masks = False"
      ]
    },
    {
      "cell_type": "code",
      "execution_count": null,
      "metadata": {
        "id": "RaUhnvyVZUGU",
        "colab": {
          "base_uri": "https://localhost:8080/"
        },
        "outputId": "aa3714cd-4994-4e76-f0fb-cec6719e2d67"
      },
      "outputs": [
        {
          "output_type": "execute_result",
          "data": {
            "text/plain": [
              "Namespace(anno_name='/content/annotations_with_segmask/annotations_binary', batch_size=1, gpu_id=0, images_dir='/content/taco_images/data', lr=0.005, lr_gamma=0.1, lr_step_size=0, lr_steps=[16, 22], model='maskrcnn_resnet50_fpn', num_classes=2, num_epochs=26, num_workers=4, optimizer='SGD', output_dir='/content/output', resume='', test_only=False, wandb=False, weight_decay=0.0005)"
            ]
          },
          "metadata": {},
          "execution_count": 8
        }
      ],
      "source": [
        "# Defaulr hyper-parameters\n",
        "args"
      ]
    },
    {
      "cell_type": "code",
      "execution_count": null,
      "metadata": {
        "id": "V3M_ZAZAY9R3",
        "colab": {
          "base_uri": "https://localhost:8080/"
        },
        "outputId": "966f854e-3c97-4e75-91b3-2f2956c1a651"
      },
      "outputs": [
        {
          "output_type": "execute_result",
          "data": {
            "text/plain": [
              "Namespace(anno_name='/content/annotations_with_segmask/annotations_binary', batch_size=4, gpu_id=0, images_dir='/content/taco_images/data', lr=0.005, lr_gamma=0.1, lr_step_size=0, lr_steps=[16, 22], model='maskrcnn_resnet50_fpn', num_classes=2, num_epochs=26, num_workers=3, optimizer='SGD', output_dir='/content/output', resume='', run_name='07-21-2022_02-21-50', test_only=False, wandb=True, weight_decay=0.0005)"
            ]
          },
          "metadata": {},
          "execution_count": 9
        }
      ],
      "source": [
        "args.batch_size = 4 # Cannot run with batch_size=32\n",
        "args.gpu_id = 0\n",
        "\n",
        "args.model = 'maskrcnn_resnet50_fpn'\n",
        "args.lr = 0.005\n",
        "args.lr_steps = [16, 22] # If we use learning rate scheduler\n",
        "\n",
        "\n",
        "args.num_classes = 2\n",
        "args.wandb = True\n",
        "args.num_workers = 3\n",
        "args.num_epochs = 26\n",
        "args.run_name = utils.generate_datetime()\n",
        "args"
      ]
    },
    {
      "cell_type": "code",
      "execution_count": null,
      "metadata": {
        "id": "MMfv31LSaJT8"
      },
      "outputs": [],
      "source": [
        "# %%html\n",
        "# <iframe src=\"https://wandb.ai/nma2022-wastedetect/wastedetect/runs\" width=\"2000\" height=\"1000\"></iframe>"
      ]
    },
    {
      "cell_type": "code",
      "execution_count": null,
      "metadata": {
        "colab": {
          "base_uri": "https://localhost:8080/",
          "height": 746,
          "referenced_widgets": [
            "1cfbc234370e4d88871dbb4b4467067d",
            "9fa94f05b71a46ff843ea32cbe7bf94c",
            "01b7765cc10041d19dd1b05e3749de7a",
            "ad21c806877b44c0b7bcd9137a9817f2",
            "97590fc148474ac4826e2efc0214aa9c",
            "04bae92af3074ea6826d00275caa2b28",
            "fd69837a97d34b61974f52ae87065b47",
            "c83a5bf703704d2ab0ae18c8b463a46a",
            "ebe91c2d271049118d6394eb76581b77",
            "71cb099e7b8a47f2a3eb9639a0ae937a",
            "8e1bf73fddc548e2b2a617637c8600c4"
          ]
        },
        "id": "KVV16TuEJHVO",
        "outputId": "9973aad1-73fa-4dff-9a97-2a19a09536cd"
      },
      "outputs": [
        {
          "output_type": "display_data",
          "data": {
            "text/plain": [
              "<IPython.core.display.Javascript object>"
            ],
            "application/javascript": [
              "\n",
              "        window._wandbApiKey = new Promise((resolve, reject) => {\n",
              "            function loadScript(url) {\n",
              "            return new Promise(function(resolve, reject) {\n",
              "                let newScript = document.createElement(\"script\");\n",
              "                newScript.onerror = reject;\n",
              "                newScript.onload = resolve;\n",
              "                document.body.appendChild(newScript);\n",
              "                newScript.src = url;\n",
              "            });\n",
              "            }\n",
              "            loadScript(\"https://cdn.jsdelivr.net/npm/postmate/build/postmate.min.js\").then(() => {\n",
              "            const iframe = document.createElement('iframe')\n",
              "            iframe.style.cssText = \"width:0;height:0;border:none\"\n",
              "            document.body.appendChild(iframe)\n",
              "            const handshake = new Postmate({\n",
              "                container: iframe,\n",
              "                url: 'https://wandb.ai/authorize'\n",
              "            });\n",
              "            const timeout = setTimeout(() => reject(\"Couldn't auto authenticate\"), 5000)\n",
              "            handshake.then(function(child) {\n",
              "                child.on('authorize', data => {\n",
              "                    clearTimeout(timeout)\n",
              "                    resolve(data)\n",
              "                });\n",
              "            });\n",
              "            })\n",
              "        });\n",
              "    "
            ]
          },
          "metadata": {}
        },
        {
          "output_type": "stream",
          "name": "stderr",
          "text": [
            "\u001b[34m\u001b[1mwandb\u001b[0m: Appending key for api.wandb.ai to your netrc file: /root/.netrc\n"
          ]
        },
        {
          "output_type": "display_data",
          "data": {
            "text/plain": [
              "<IPython.core.display.HTML object>"
            ],
            "text/html": [
              "Tracking run with wandb version 0.12.21"
            ]
          },
          "metadata": {}
        },
        {
          "output_type": "display_data",
          "data": {
            "text/plain": [
              "<IPython.core.display.HTML object>"
            ],
            "text/html": [
              "Run data is saved locally in <code>/content/wandb/run-20220721_022156-32www1tz</code>"
            ]
          },
          "metadata": {}
        },
        {
          "output_type": "display_data",
          "data": {
            "text/plain": [
              "<IPython.core.display.HTML object>"
            ],
            "text/html": [
              "Syncing run <strong><a href=\"https://wandb.ai/nma2022-wastedetect/wastedetect/runs/32www1tz\" target=\"_blank\">experiment_07-21-2022_02-21-50</a></strong> to <a href=\"https://wandb.ai/nma2022-wastedetect/wastedetect\" target=\"_blank\">Weights & Biases</a> (<a href=\"https://wandb.me/run\" target=\"_blank\">docs</a>)<br/>"
            ]
          },
          "metadata": {}
        },
        {
          "output_type": "stream",
          "name": "stdout",
          "text": [
            "loading annotations into memory...\n",
            "Done (t=0.06s)\n",
            "creating index...\n",
            "index created!\n",
            "loading annotations into memory...\n",
            "Done (t=0.01s)\n",
            "creating index...\n",
            "index created!\n"
          ]
        },
        {
          "output_type": "stream",
          "name": "stderr",
          "text": [
            "/usr/local/lib/python3.7/dist-packages/torch/utils/data/dataloader.py:560: UserWarning: This DataLoader will create 3 worker processes in total. Our suggested max number of worker in current system is 2, which is smaller than what this DataLoader is going to create. Please be aware that excessive worker creation might get DataLoader running slow or even freeze, lower the worker number to avoid potential slowness/freeze if necessary.\n",
            "  cpuset_checked))\n",
            "/usr/local/lib/python3.7/dist-packages/torchvision/models/_utils.py:209: UserWarning: The parameter 'pretrained' is deprecated since 0.13 and will be removed in 0.15, please use 'weights' instead.\n",
            "  f\"The parameter '{pretrained_param}' is deprecated since 0.13 and will be removed in 0.15, \"\n",
            "/usr/local/lib/python3.7/dist-packages/torchvision/models/_utils.py:223: UserWarning: Arguments other than a weight enum or `None` for 'weights' are deprecated since 0.13 and will be removed in 0.15. The current behavior is equivalent to passing `weights=MaskRCNN_ResNet50_FPN_Weights.COCO_V1`. You can also use `weights=MaskRCNN_ResNet50_FPN_Weights.DEFAULT` to get the most up-to-date weights.\n",
            "  warnings.warn(msg)\n",
            "Downloading: \"https://download.pytorch.org/models/maskrcnn_resnet50_fpn_coco-bf2d0c1e.pth\" to /root/.cache/torch/hub/checkpoints/maskrcnn_resnet50_fpn_coco-bf2d0c1e.pth\n"
          ]
        },
        {
          "output_type": "display_data",
          "data": {
            "text/plain": [
              "  0%|          | 0.00/170M [00:00<?, ?B/s]"
            ],
            "application/vnd.jupyter.widget-view+json": {
              "version_major": 2,
              "version_minor": 0,
              "model_id": "1cfbc234370e4d88871dbb4b4467067d"
            }
          },
          "metadata": {}
        },
        {
          "output_type": "stream",
          "name": "stdout",
          "text": [
            "Start training\n",
            "Epoch: [0]  [  0/301]  eta: 1:37:01  lr: 0.000022  loss: 4.9895 (4.9895)  loss_classifier: 0.8156 (0.8156)  loss_box_reg: 0.3442 (0.3442)  loss_mask: 2.0895 (2.0895)  loss_objectness: 1.5752 (1.5752)  loss_rpn_box_reg: 0.1650 (0.1650)  time: 19.3420  data: 7.0142  max mem: 7058\n",
            "Epoch: [0]  [ 20/301]  eta: 0:13:23  lr: 0.000355  loss: 2.1307 (2.3151)  loss_classifier: 0.2679 (0.4455)  loss_box_reg: 0.1970 (0.2062)  loss_mask: 0.7971 (1.1412)  loss_objectness: 0.1671 (0.4543)  loss_rpn_box_reg: 0.0339 (0.0678)  time: 2.0357  data: 0.2325  max mem: 8938\n",
            "Epoch: [0]  [ 40/301]  eta: 0:11:07  lr: 0.000688  loss: 0.8441 (1.6052)  loss_classifier: 0.1562 (0.3080)  loss_box_reg: 0.1405 (0.1858)  loss_mask: 0.2949 (0.7531)  loss_objectness: 0.1045 (0.3044)  loss_rpn_box_reg: 0.0115 (0.0539)  time: 2.2433  data: 0.4119  max mem: 8938\n",
            "Epoch: [0]  [ 60/301]  eta: 0:10:13  lr: 0.001021  loss: 0.7569 (1.3468)  loss_classifier: 0.1445 (0.2563)  loss_box_reg: 0.2073 (0.1909)  loss_mask: 0.2634 (0.5939)  loss_objectness: 0.0872 (0.2523)  loss_rpn_box_reg: 0.0250 (0.0533)  time: 2.5192  data: 0.5535  max mem: 8938\n",
            "Epoch: [0]  [ 80/301]  eta: 0:09:06  lr: 0.001354  loss: 0.6077 (1.1700)  loss_classifier: 0.0977 (0.2198)  loss_box_reg: 0.1518 (0.1855)  loss_mask: 0.2271 (0.5052)  loss_objectness: 0.0629 (0.2109)  loss_rpn_box_reg: 0.0086 (0.0486)  time: 2.2564  data: 0.2495  max mem: 8938\n",
            "Epoch: [0]  [100/301]  eta: 0:08:11  lr: 0.001687  loss: 0.6104 (1.0645)  loss_classifier: 0.1097 (0.2013)  loss_box_reg: 0.1280 (0.1830)  loss_mask: 0.2246 (0.4527)  loss_objectness: 0.0567 (0.1833)  loss_rpn_box_reg: 0.0151 (0.0442)  time: 2.3342  data: 0.4540  max mem: 8938\n",
            "Epoch: [0]  [120/301]  eta: 0:07:17  lr: 0.002020  loss: 0.5731 (0.9983)  loss_classifier: 0.1028 (0.1871)  loss_box_reg: 0.1188 (0.1750)  loss_mask: 0.2464 (0.4210)  loss_objectness: 0.0625 (0.1702)  loss_rpn_box_reg: 0.0343 (0.0451)  time: 2.2553  data: 0.3817  max mem: 8938\n",
            "Epoch: [0]  [140/301]  eta: 0:06:27  lr: 0.002353  loss: 0.5736 (0.9488)  loss_classifier: 0.1006 (0.1769)  loss_box_reg: 0.0829 (0.1655)  loss_mask: 0.2124 (0.3968)  loss_objectness: 0.0786 (0.1619)  loss_rpn_box_reg: 0.0186 (0.0477)  time: 2.3686  data: 0.3721  max mem: 9019\n",
            "Epoch: [0]  [160/301]  eta: 0:05:41  lr: 0.002686  loss: 0.5795 (0.9173)  loss_classifier: 0.0806 (0.1680)  loss_box_reg: 0.0758 (0.1582)  loss_mask: 0.2235 (0.3777)  loss_objectness: 0.1112 (0.1608)  loss_rpn_box_reg: 0.0478 (0.0526)  time: 2.4991  data: 0.5292  max mem: 9019\n",
            "Epoch: [0]  [180/301]  eta: 0:04:50  lr: 0.003019  loss: 0.5934 (0.8831)  loss_classifier: 0.1208 (0.1625)  loss_box_reg: 0.0998 (0.1524)  loss_mask: 0.2535 (0.3627)  loss_objectness: 0.0692 (0.1539)  loss_rpn_box_reg: 0.0204 (0.0515)  time: 2.2582  data: 0.3127  max mem: 9019\n",
            "Epoch: [0]  [200/301]  eta: 0:03:59  lr: 0.003352  loss: 0.5212 (0.8513)  loss_classifier: 0.1054 (0.1574)  loss_box_reg: 0.0972 (0.1480)  loss_mask: 0.2480 (0.3508)  loss_objectness: 0.0480 (0.1446)  loss_rpn_box_reg: 0.0091 (0.0506)  time: 2.1272  data: 0.2377  max mem: 9019\n",
            "Epoch: [0]  [220/301]  eta: 0:03:14  lr: 0.003685  loss: 0.4973 (0.8307)  loss_classifier: 0.0989 (0.1532)  loss_box_reg: 0.0780 (0.1434)  loss_mask: 0.2460 (0.3413)  loss_objectness: 0.0723 (0.1420)  loss_rpn_box_reg: 0.0113 (0.0507)  time: 2.7080  data: 0.7785  max mem: 9019\n",
            "Epoch: [0]  [240/301]  eta: 0:02:25  lr: 0.004018  loss: 0.5399 (0.8116)  loss_classifier: 0.0986 (0.1493)  loss_box_reg: 0.0842 (0.1395)  loss_mask: 0.1932 (0.3307)  loss_objectness: 0.0619 (0.1398)  loss_rpn_box_reg: 0.0366 (0.0523)  time: 2.1707  data: 0.2530  max mem: 9019\n",
            "Epoch: [0]  [260/301]  eta: 0:01:38  lr: 0.004351  loss: 0.5117 (0.7967)  loss_classifier: 0.0879 (0.1454)  loss_box_reg: 0.0837 (0.1362)  loss_mask: 0.2185 (0.3237)  loss_objectness: 0.1064 (0.1380)  loss_rpn_box_reg: 0.0202 (0.0534)  time: 2.4592  data: 0.3912  max mem: 9019\n",
            "Epoch: [0]  [280/301]  eta: 0:00:50  lr: 0.004684  loss: 0.7128 (0.7936)  loss_classifier: 0.1117 (0.1445)  loss_box_reg: 0.0938 (0.1351)  loss_mask: 0.2731 (0.3213)  loss_objectness: 0.0608 (0.1375)  loss_rpn_box_reg: 0.0426 (0.0554)  time: 2.5590  data: 0.6290  max mem: 9019\n",
            "Epoch: [0]  [300/301]  eta: 0:00:02  lr: 0.005000  loss: 0.6333 (0.7860)  loss_classifier: 0.1079 (0.1434)  loss_box_reg: 0.1059 (0.1341)  loss_mask: 0.2408 (0.3177)  loss_objectness: 0.0915 (0.1360)  loss_rpn_box_reg: 0.0298 (0.0548)  time: 2.3210  data: 0.4351  max mem: 9019\n",
            "Epoch: [0] Total time: 0:12:01 (2.3985 s / it)\n",
            "Test:  [ 0/75]  eta: 0:15:42  model_time: 5.4964 (5.4964)  evaluator_time: 5.2952 (5.2952)  time: 12.5622  data: 1.6389  max mem: 9019\n"
          ]
        }
      ],
      "source": [
        "if args.wandb and (not args.resume):\n",
        "    import wandb\n",
        "\n",
        "    exp_logger = wandb.init(\n",
        "        project=\"wastedetect\",\n",
        "        entity=\"nma2022-wastedetect\",\n",
        "        name=f\"experiment_{args.run_name}\",\n",
        "    )\n",
        "    wandb.config = vars(args)\n",
        "\n",
        "else:\n",
        "    exp_logger = None\n",
        "\n",
        "output_dir = Path(args.output_dir)\n",
        "os.makedirs(output_dir, exist_ok=True)\n",
        "if args.model.startswith(\"mask\"):\n",
        "    return_masks = True\n",
        "\n",
        "# use our dataset and defined transformations\n",
        "dataset_train = build(\"train\", args.images_dir, args.anno_name, return_masks)\n",
        "dataset_val = build(\"val\", args.images_dir, args.anno_name, return_masks)\n",
        "\n",
        "# define training and validation data loaders\n",
        "data_loader = torch.utils.data.DataLoader(\n",
        "    dataset_train,\n",
        "    batch_size=args.batch_size,\n",
        "    shuffle=True,\n",
        "    num_workers=args.num_workers,\n",
        "    collate_fn=utils.collate_fn,\n",
        ")\n",
        "\n",
        "data_loader_test = torch.utils.data.DataLoader(\n",
        "    dataset_val,\n",
        "    batch_size=args.batch_size,\n",
        "    shuffle=False,\n",
        "    num_workers=args.num_workers,\n",
        "    collate_fn=utils.collate_fn,\n",
        ")\n",
        "\n",
        "# define model\n",
        "device = (\n",
        "    torch.device(f\"cuda:{args.gpu_id}\")\n",
        "    if torch.cuda.is_available()\n",
        "    else torch.device(\"cpu\")\n",
        ")\n",
        "\n",
        "# our dataset has two classes only - background and waste\n",
        "num_classes = args.num_classes\n",
        "\n",
        "# get the model using our helper function\n",
        "model = get_instance_segmentation_model(num_classes, args.model)\n",
        "\n",
        "# move model to the right device\n",
        "model.to(device)\n",
        "\n",
        "# construct an optimizer\n",
        "params = [p for p in model.parameters() if p.requires_grad]\n",
        "if args.optimizer == \"AdamW\":\n",
        "    optimizer = torch.optim.AdamW(\n",
        "        params, lr=args.lr, weight_decay=args.weight_decay\n",
        "    )\n",
        "if args.optimizer == \"SGD\":\n",
        "    optimizer = torch.optim.SGD(\n",
        "        params, lr=args.lr, momentum=0.9, weight_decay=args.weight_decay\n",
        "    )\n",
        "\n",
        "\n",
        "# and a learning rate scheduler\n",
        "if args.lr_step_size != 0:\n",
        "    lr_scheduler = torch.optim.lr_scheduler.StepLR(\n",
        "        optimizer, step_size=args.lr_step_size, gamma=args.lr_gamma\n",
        "    )\n",
        "else:\n",
        "    lr_scheduler = torch.optim.lr_scheduler.MultiStepLR(\n",
        "        optimizer, milestones=args.lr_steps, gamma=args.lr_gamma\n",
        "    )\n",
        "\n",
        "if args.resume:\n",
        "    checkpoint = torch.load(args.resume, map_location=device)\n",
        "    model.load_state_dict(checkpoint[\"model_state_dict\"])\n",
        "    optimizer.load_state_dict(checkpoint[\"optimizer_state_dict\"])\n",
        "    start_epoch = checkpoint[\"epoch\"] + 1\n",
        "\n",
        "if args.test_only:\n",
        "    # evaluate on the test dataset\n",
        "    print(\"Start evaluating\")\n",
        "    dataset_val = build(\"test\", args.images_dir, args.anno_name)\n",
        "    data_loader_test = torch.utils.data.DataLoader(\n",
        "        dataset_val,\n",
        "        batch_size=args.batch_size,\n",
        "        shuffle=False,\n",
        "        num_workers=args.num_workers,\n",
        "        collate_fn=utils.collate_fn,\n",
        "    )\n",
        "    evaluate(model, data_loader_test, device=device)\n",
        "else:\n",
        "    print(\"Start training\")\n",
        "    start_time = time.time()\n",
        "    for epoch in range(start_epoch, args.num_epochs):\n",
        "        # train for one epoch, printing every 10 iterations\n",
        "        train_one_epoch(\n",
        "            model,\n",
        "            optimizer,\n",
        "            data_loader,\n",
        "            device,\n",
        "            epoch,\n",
        "            print_freq=20,\n",
        "            exp_logger=exp_logger,\n",
        "        )\n",
        "        # update the learning rate\n",
        "        lr_scheduler.step()\n",
        "        torch.save(\n",
        "            {\n",
        "                \"epoch\": epoch,\n",
        "                \"model_state_dict\": model.state_dict(),\n",
        "                \"optimizer_state_dict\": optimizer.state_dict(),\n",
        "            },\n",
        "            os.path.join(output_dir, f\"checkpoint{epoch:04}.pth\"),\n",
        "        )\n",
        "        # evaluate on the test dataset\n",
        "        coco_evaluator = evaluate(model, data_loader_test, device=device)\n",
        "\n",
        "        if exp_logger is not None:\n",
        "            exp_logger.log(\n",
        "                {\n",
        "                    \"valid/bbox-mAP@0.5:0.95\": coco_evaluator.coco_eval[\n",
        "                        \"bbox\"\n",
        "                    ].stats[0],\n",
        "                    \"valid/bbox-mAP@0.5\": coco_evaluator.coco_eval[\"bbox\"].stats[1],\n",
        "                }\n",
        "            )\n",
        "            if \"segm\" in coco_evaluator.coco_eval:\n",
        "                exp_logger.log(\n",
        "                    {\n",
        "                        \"valid/segm-mAP@0.5:0.95\": coco_evaluator.coco_eval[\n",
        "                            \"segm\"\n",
        "                        ].stats[0],\n",
        "                        \"valid/segm-mAP@0.5\": coco_evaluator.coco_eval[\n",
        "                            \"segm\"\n",
        "                        ].stats[1],\n",
        "                    }\n",
        "                )\n",
        "    total_time = time.time() - start_time\n",
        "    total_time_str = str(datetime.timedelta(seconds=int(total_time)))\n",
        "    print(\"Training time {}\".format(total_time_str))\n"
      ]
    },
    {
      "cell_type": "code",
      "source": [
        ""
      ],
      "metadata": {
        "id": "svlhix8Nj7Lt"
      },
      "execution_count": null,
      "outputs": []
    }
  ],
  "metadata": {
    "accelerator": "GPU",
    "colab": {
      "collapsed_sections": [],
      "name": "TACO_Binary_Train.ipynb",
      "provenance": []
    },
    "gpuClass": "standard",
    "kernelspec": {
      "display_name": "Python 3",
      "name": "python3"
    },
    "language_info": {
      "name": "python"
    },
    "widgets": {
      "application/vnd.jupyter.widget-state+json": {
        "1cfbc234370e4d88871dbb4b4467067d": {
          "model_module": "@jupyter-widgets/controls",
          "model_name": "HBoxModel",
          "model_module_version": "1.5.0",
          "state": {
            "_dom_classes": [],
            "_model_module": "@jupyter-widgets/controls",
            "_model_module_version": "1.5.0",
            "_model_name": "HBoxModel",
            "_view_count": null,
            "_view_module": "@jupyter-widgets/controls",
            "_view_module_version": "1.5.0",
            "_view_name": "HBoxView",
            "box_style": "",
            "children": [
              "IPY_MODEL_9fa94f05b71a46ff843ea32cbe7bf94c",
              "IPY_MODEL_01b7765cc10041d19dd1b05e3749de7a",
              "IPY_MODEL_ad21c806877b44c0b7bcd9137a9817f2"
            ],
            "layout": "IPY_MODEL_97590fc148474ac4826e2efc0214aa9c"
          }
        },
        "9fa94f05b71a46ff843ea32cbe7bf94c": {
          "model_module": "@jupyter-widgets/controls",
          "model_name": "HTMLModel",
          "model_module_version": "1.5.0",
          "state": {
            "_dom_classes": [],
            "_model_module": "@jupyter-widgets/controls",
            "_model_module_version": "1.5.0",
            "_model_name": "HTMLModel",
            "_view_count": null,
            "_view_module": "@jupyter-widgets/controls",
            "_view_module_version": "1.5.0",
            "_view_name": "HTMLView",
            "description": "",
            "description_tooltip": null,
            "layout": "IPY_MODEL_04bae92af3074ea6826d00275caa2b28",
            "placeholder": "​",
            "style": "IPY_MODEL_fd69837a97d34b61974f52ae87065b47",
            "value": "100%"
          }
        },
        "01b7765cc10041d19dd1b05e3749de7a": {
          "model_module": "@jupyter-widgets/controls",
          "model_name": "FloatProgressModel",
          "model_module_version": "1.5.0",
          "state": {
            "_dom_classes": [],
            "_model_module": "@jupyter-widgets/controls",
            "_model_module_version": "1.5.0",
            "_model_name": "FloatProgressModel",
            "_view_count": null,
            "_view_module": "@jupyter-widgets/controls",
            "_view_module_version": "1.5.0",
            "_view_name": "ProgressView",
            "bar_style": "success",
            "description": "",
            "description_tooltip": null,
            "layout": "IPY_MODEL_c83a5bf703704d2ab0ae18c8b463a46a",
            "max": 178090079,
            "min": 0,
            "orientation": "horizontal",
            "style": "IPY_MODEL_ebe91c2d271049118d6394eb76581b77",
            "value": 178090079
          }
        },
        "ad21c806877b44c0b7bcd9137a9817f2": {
          "model_module": "@jupyter-widgets/controls",
          "model_name": "HTMLModel",
          "model_module_version": "1.5.0",
          "state": {
            "_dom_classes": [],
            "_model_module": "@jupyter-widgets/controls",
            "_model_module_version": "1.5.0",
            "_model_name": "HTMLModel",
            "_view_count": null,
            "_view_module": "@jupyter-widgets/controls",
            "_view_module_version": "1.5.0",
            "_view_name": "HTMLView",
            "description": "",
            "description_tooltip": null,
            "layout": "IPY_MODEL_71cb099e7b8a47f2a3eb9639a0ae937a",
            "placeholder": "​",
            "style": "IPY_MODEL_8e1bf73fddc548e2b2a617637c8600c4",
            "value": " 170M/170M [00:06&lt;00:00, 35.2MB/s]"
          }
        },
        "97590fc148474ac4826e2efc0214aa9c": {
          "model_module": "@jupyter-widgets/base",
          "model_name": "LayoutModel",
          "model_module_version": "1.2.0",
          "state": {
            "_model_module": "@jupyter-widgets/base",
            "_model_module_version": "1.2.0",
            "_model_name": "LayoutModel",
            "_view_count": null,
            "_view_module": "@jupyter-widgets/base",
            "_view_module_version": "1.2.0",
            "_view_name": "LayoutView",
            "align_content": null,
            "align_items": null,
            "align_self": null,
            "border": null,
            "bottom": null,
            "display": null,
            "flex": null,
            "flex_flow": null,
            "grid_area": null,
            "grid_auto_columns": null,
            "grid_auto_flow": null,
            "grid_auto_rows": null,
            "grid_column": null,
            "grid_gap": null,
            "grid_row": null,
            "grid_template_areas": null,
            "grid_template_columns": null,
            "grid_template_rows": null,
            "height": null,
            "justify_content": null,
            "justify_items": null,
            "left": null,
            "margin": null,
            "max_height": null,
            "max_width": null,
            "min_height": null,
            "min_width": null,
            "object_fit": null,
            "object_position": null,
            "order": null,
            "overflow": null,
            "overflow_x": null,
            "overflow_y": null,
            "padding": null,
            "right": null,
            "top": null,
            "visibility": null,
            "width": null
          }
        },
        "04bae92af3074ea6826d00275caa2b28": {
          "model_module": "@jupyter-widgets/base",
          "model_name": "LayoutModel",
          "model_module_version": "1.2.0",
          "state": {
            "_model_module": "@jupyter-widgets/base",
            "_model_module_version": "1.2.0",
            "_model_name": "LayoutModel",
            "_view_count": null,
            "_view_module": "@jupyter-widgets/base",
            "_view_module_version": "1.2.0",
            "_view_name": "LayoutView",
            "align_content": null,
            "align_items": null,
            "align_self": null,
            "border": null,
            "bottom": null,
            "display": null,
            "flex": null,
            "flex_flow": null,
            "grid_area": null,
            "grid_auto_columns": null,
            "grid_auto_flow": null,
            "grid_auto_rows": null,
            "grid_column": null,
            "grid_gap": null,
            "grid_row": null,
            "grid_template_areas": null,
            "grid_template_columns": null,
            "grid_template_rows": null,
            "height": null,
            "justify_content": null,
            "justify_items": null,
            "left": null,
            "margin": null,
            "max_height": null,
            "max_width": null,
            "min_height": null,
            "min_width": null,
            "object_fit": null,
            "object_position": null,
            "order": null,
            "overflow": null,
            "overflow_x": null,
            "overflow_y": null,
            "padding": null,
            "right": null,
            "top": null,
            "visibility": null,
            "width": null
          }
        },
        "fd69837a97d34b61974f52ae87065b47": {
          "model_module": "@jupyter-widgets/controls",
          "model_name": "DescriptionStyleModel",
          "model_module_version": "1.5.0",
          "state": {
            "_model_module": "@jupyter-widgets/controls",
            "_model_module_version": "1.5.0",
            "_model_name": "DescriptionStyleModel",
            "_view_count": null,
            "_view_module": "@jupyter-widgets/base",
            "_view_module_version": "1.2.0",
            "_view_name": "StyleView",
            "description_width": ""
          }
        },
        "c83a5bf703704d2ab0ae18c8b463a46a": {
          "model_module": "@jupyter-widgets/base",
          "model_name": "LayoutModel",
          "model_module_version": "1.2.0",
          "state": {
            "_model_module": "@jupyter-widgets/base",
            "_model_module_version": "1.2.0",
            "_model_name": "LayoutModel",
            "_view_count": null,
            "_view_module": "@jupyter-widgets/base",
            "_view_module_version": "1.2.0",
            "_view_name": "LayoutView",
            "align_content": null,
            "align_items": null,
            "align_self": null,
            "border": null,
            "bottom": null,
            "display": null,
            "flex": null,
            "flex_flow": null,
            "grid_area": null,
            "grid_auto_columns": null,
            "grid_auto_flow": null,
            "grid_auto_rows": null,
            "grid_column": null,
            "grid_gap": null,
            "grid_row": null,
            "grid_template_areas": null,
            "grid_template_columns": null,
            "grid_template_rows": null,
            "height": null,
            "justify_content": null,
            "justify_items": null,
            "left": null,
            "margin": null,
            "max_height": null,
            "max_width": null,
            "min_height": null,
            "min_width": null,
            "object_fit": null,
            "object_position": null,
            "order": null,
            "overflow": null,
            "overflow_x": null,
            "overflow_y": null,
            "padding": null,
            "right": null,
            "top": null,
            "visibility": null,
            "width": null
          }
        },
        "ebe91c2d271049118d6394eb76581b77": {
          "model_module": "@jupyter-widgets/controls",
          "model_name": "ProgressStyleModel",
          "model_module_version": "1.5.0",
          "state": {
            "_model_module": "@jupyter-widgets/controls",
            "_model_module_version": "1.5.0",
            "_model_name": "ProgressStyleModel",
            "_view_count": null,
            "_view_module": "@jupyter-widgets/base",
            "_view_module_version": "1.2.0",
            "_view_name": "StyleView",
            "bar_color": null,
            "description_width": ""
          }
        },
        "71cb099e7b8a47f2a3eb9639a0ae937a": {
          "model_module": "@jupyter-widgets/base",
          "model_name": "LayoutModel",
          "model_module_version": "1.2.0",
          "state": {
            "_model_module": "@jupyter-widgets/base",
            "_model_module_version": "1.2.0",
            "_model_name": "LayoutModel",
            "_view_count": null,
            "_view_module": "@jupyter-widgets/base",
            "_view_module_version": "1.2.0",
            "_view_name": "LayoutView",
            "align_content": null,
            "align_items": null,
            "align_self": null,
            "border": null,
            "bottom": null,
            "display": null,
            "flex": null,
            "flex_flow": null,
            "grid_area": null,
            "grid_auto_columns": null,
            "grid_auto_flow": null,
            "grid_auto_rows": null,
            "grid_column": null,
            "grid_gap": null,
            "grid_row": null,
            "grid_template_areas": null,
            "grid_template_columns": null,
            "grid_template_rows": null,
            "height": null,
            "justify_content": null,
            "justify_items": null,
            "left": null,
            "margin": null,
            "max_height": null,
            "max_width": null,
            "min_height": null,
            "min_width": null,
            "object_fit": null,
            "object_position": null,
            "order": null,
            "overflow": null,
            "overflow_x": null,
            "overflow_y": null,
            "padding": null,
            "right": null,
            "top": null,
            "visibility": null,
            "width": null
          }
        },
        "8e1bf73fddc548e2b2a617637c8600c4": {
          "model_module": "@jupyter-widgets/controls",
          "model_name": "DescriptionStyleModel",
          "model_module_version": "1.5.0",
          "state": {
            "_model_module": "@jupyter-widgets/controls",
            "_model_module_version": "1.5.0",
            "_model_name": "DescriptionStyleModel",
            "_view_count": null,
            "_view_module": "@jupyter-widgets/base",
            "_view_module_version": "1.2.0",
            "_view_name": "StyleView",
            "description_width": ""
          }
        }
      }
    }
  },
  "nbformat": 4,
  "nbformat_minor": 0
}